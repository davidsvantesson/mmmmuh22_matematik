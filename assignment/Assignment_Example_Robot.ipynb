{
 "cells": [
  {
   "attachments": {},
   "cell_type": "markdown",
   "metadata": {},
   "source": [
    "# Robot - navigering\n",
    "Exempel: Robotdammsugare, robotgräsklippare ?\n",
    "\n",
    "## Navigering med hjälp av LIDAR\n",
    "(Fungerar även med RADAR, ultraljud eller annan aktiv sensor)\n",
    "\n",
    "Roboten ska kunna navigera genom att mäta avstånd till olika föremål (hinder och avgränsningar som väggar) i rummet. Genom att skicka ut en signal och mäta tiden det tar innan sensorn mäter den igen kan man få fram avståndet till objektet. Vi kan använda ekvationen för beräkning av sträcka utifrån hastighet och tid. Eftersom den elektromagnetiska vågen går både fram och tillbaka måste vi dock dela med två för att få sträckan till objektet. Alltså:\n",
    "\n",
    "$$\n",
    "s = \\frac{1}{2} v \\cdot t = \\frac{c \\cdot t}{2}\n",
    "$$\n",
    "\n",
    "Hastigheten för elektromagnetisk strålning är samma som för ljusets hastighet, $v=c=299792458$ m/s. (Vi kan bortse från att detta är i luft och inte i vakuum)\n",
    "[ref 1](https://physics.nist.gov/cuu/Units/current.html)\n",
    "\n",
    "Vi kan skriva en funktion som omvandlar från tiden vi mätt upp till avstånd:"
   ]
  },
  {
   "cell_type": "code",
   "execution_count": 2,
   "metadata": {},
   "outputs": [
    {
     "name": "stdout",
     "output_type": "stream",
     "text": [
      "Measured distance: 2.9979245800000003 m\n"
     ]
    }
   ],
   "source": [
    "\n",
    "# Constants. (Python har inte konstanter, konvention att använda versaler för konstanter)\n",
    "SPEED_OF_LIGHT = 299792458\n",
    "\n",
    "\"\"\" Calculates distance to object from measured time\n",
    "    s = c * t / 2\n",
    "    s: distance (sträcka)\n",
    "    c: speed of light, constant\n",
    "    t: measured time\n",
    "\"\"\"\n",
    "def time_to_distance(time: float):\n",
    "    s = (time * SPEED_OF_LIGHT) / 2\n",
    "    return s\n",
    "\n",
    "# Short test. Assume 20 ns (nanoseconds) = 2.0 × 10^-8 s\n",
    "laserTimeMeasurement = 0.00000002\n",
    "print(f\"Measured distance: {time_to_distance(laserTimeMeasurement)} m\")"
   ]
  },
  {
   "attachments": {},
   "cell_type": "markdown",
   "metadata": {},
   "source": [
    "Mer att utreda?\n",
    "\n",
    "- Omvandling från A/D värde -> nanosekunder -> sekunder\n",
    "- Givet vinkel av mätningen, var befinner sig objektet? Inte bara avstånd utan x,y-koordinater\n",
    "   - Robotens rotation\n",
    "   - Mätningens vinkel"
   ]
  }
 ],
 "metadata": {
  "kernelspec": {
   "display_name": "Python 3",
   "language": "python",
   "name": "python3"
  },
  "language_info": {
   "codemirror_mode": {
    "name": "ipython",
    "version": 3
   },
   "file_extension": ".py",
   "mimetype": "text/x-python",
   "name": "python",
   "nbconvert_exporter": "python",
   "pygments_lexer": "ipython3",
   "version": "3.10.10"
  },
  "orig_nbformat": 4,
  "vscode": {
   "interpreter": {
    "hash": "191d7138015f8cb7b895000e69ed09fed4d2b8a66c092f41682edc978e7fd3c7"
   }
  }
 },
 "nbformat": 4,
 "nbformat_minor": 2
}
