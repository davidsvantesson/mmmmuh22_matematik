{
 "cells": [
  {
   "attachments": {},
   "cell_type": "markdown",
   "metadata": {},
   "source": [
    "# Hemautomationssystem\n",
    "\n",
    "Jag vill utveckla ett hemautomations system.\n",
    "\n",
    "En enhet har en temperatursensorer, två dörrsensorer (stängd / icke stängd), och en temperatursensor.\n",
    "\n",
    "## Problem: Skicka data kodat i ett meddelande\n",
    "\n",
    "Mätenheten ska skicka data till en logikenhet. Den skickar en uint16 (två byte) i taget, kodat så här:\n",
    "\n",
    "- bit 0 - Dörrsensor 1\n",
    "- bit 1 - Dörrsensor 2\n",
    "- bit 2:11 - Temperatursensor (rådata 10 bitars upplösning)\n",
    "\n",
    "Jag kan koda detta genom att använda bitvis operationer (boolesk algebra) för att få signalerna på rätt plats. T.ex. dörrsensor två ska shiftas en bit åt vänster.\n",
    "För att få tillbaka signalerna använder jag bitshift and och bitvis right shift. Se koden nedan."
   ]
  },
  {
   "cell_type": "code",
   "execution_count": 12,
   "metadata": {},
   "outputs": [
    {
     "data": {
      "text/plain": [
       "'0b110001'"
      ]
     },
     "execution_count": 12,
     "metadata": {},
     "output_type": "execute_result"
    }
   ],
   "source": [
    "# Calculates the raw byte (16 bits) that shall be sent to logic unit\n",
    "def calcByteToSend(door1, door2, temp):\n",
    "    byte = door1 | door2<<1 | temp<<2\n",
    "    return byte\n",
    "\n",
    "# Test function, print as binary\n",
    "bin(calcByteToSend(True, False, 12))"
   ]
  },
  {
   "cell_type": "code",
   "execution_count": 1,
   "metadata": {},
   "outputs": [
    {
     "name": "stdout",
     "output_type": "stream",
     "text": [
      "Door1: 1\n",
      "Door2: 0\n",
      "Temperature: 12\n"
     ]
    }
   ],
   "source": [
    "# Logic unit splits up the data it receives\n",
    "def getSignals(rawData):\n",
    "    door1 = rawData & 0x1\n",
    "    door2 = (rawData & 0x2) >> 1\n",
    "    temp = (rawData & 0xFFC) >> 2\n",
    "    return door1, door2, temp\n",
    "\n",
    "signals = getSignals(0b110001)\n",
    "print(\"Door1:\", signals[0])\n",
    "print(\"Door2:\", signals[1])\n",
    "print(\"Temperature:\", signals[2])"
   ]
  },
  {
   "attachments": {},
   "cell_type": "markdown",
   "metadata": {},
   "source": [
    "## Problem: Statistik för temperatursensor\n",
    "\n",
    " - Räkna ut medel, median, standardavvikelse...\n",
    "\n"
   ]
  },
  {
   "attachments": {},
   "cell_type": "markdown",
   "metadata": {},
   "source": [
    "## Problem: Logiska scenarion."
   ]
  },
  {
   "attachments": {},
   "cell_type": "markdown",
   "metadata": {},
   "source": [
    "## Problem: Förutspå händelser\n",
    "\n",
    "Exempel: Om jag har en microvågsugn. Kan jag förutspå tillagningstiden baserat på t.ex. vikt, vad som ska tillagas etc. \n",
    "\n",
    "Vilken data behöver jag? Hur behandlar jag den?"
   ]
  }
 ],
 "metadata": {
  "kernelspec": {
   "display_name": "Python 3",
   "language": "python",
   "name": "python3"
  },
  "language_info": {
   "codemirror_mode": {
    "name": "ipython",
    "version": 3
   },
   "file_extension": ".py",
   "mimetype": "text/x-python",
   "name": "python",
   "nbconvert_exporter": "python",
   "pygments_lexer": "ipython3",
   "version": "3.10.10"
  },
  "orig_nbformat": 4,
  "vscode": {
   "interpreter": {
    "hash": "191d7138015f8cb7b895000e69ed09fed4d2b8a66c092f41682edc978e7fd3c7"
   }
  }
 },
 "nbformat": 4,
 "nbformat_minor": 2
}
